{
 "cells": [
  {
   "cell_type": "code",
   "execution_count": 1,
   "id": "502c20de-a808-4dc1-855d-063ec4a834f8",
   "metadata": {},
   "outputs": [],
   "source": [
    "import pandas as pd\n",
    "from sklearn.model_selection import train_test_split\n",
    "from sklearn.linear_model import LinearRegression"
   ]
  },
  {
   "cell_type": "markdown",
   "id": "faf57fdb-613a-44a4-afca-1480008bc65e",
   "metadata": {},
   "source": [
    "READING OF DATA"
   ]
  },
  {
   "cell_type": "code",
   "execution_count": 2,
   "id": "883eee02-c39c-4bdc-b7d7-19e80dc083e0",
   "metadata": {},
   "outputs": [],
   "source": [
    "data = pd.read_csv('train.csv')"
   ]
  },
  {
   "cell_type": "markdown",
   "id": "13a7293e-2188-4922-8887-9313f3014aa0",
   "metadata": {},
   "source": [
    "GETTING FIRST 5 ROWS OF DATASET"
   ]
  },
  {
   "cell_type": "code",
   "execution_count": 3,
   "id": "7dacc51d-1d34-4183-87f9-4d2115985cc4",
   "metadata": {},
   "outputs": [
    {
     "data": {
      "text/html": [
       "<div>\n",
       "<style scoped>\n",
       "    .dataframe tbody tr th:only-of-type {\n",
       "        vertical-align: middle;\n",
       "    }\n",
       "\n",
       "    .dataframe tbody tr th {\n",
       "        vertical-align: top;\n",
       "    }\n",
       "\n",
       "    .dataframe thead th {\n",
       "        text-align: right;\n",
       "    }\n",
       "</style>\n",
       "<table border=\"1\" class=\"dataframe\">\n",
       "  <thead>\n",
       "    <tr style=\"text-align: right;\">\n",
       "      <th></th>\n",
       "      <th>v.id</th>\n",
       "      <th>on road old</th>\n",
       "      <th>on road now</th>\n",
       "      <th>years</th>\n",
       "      <th>km</th>\n",
       "      <th>rating</th>\n",
       "      <th>condition</th>\n",
       "      <th>economy</th>\n",
       "      <th>top speed</th>\n",
       "      <th>hp</th>\n",
       "      <th>torque</th>\n",
       "      <th>current price</th>\n",
       "    </tr>\n",
       "  </thead>\n",
       "  <tbody>\n",
       "    <tr>\n",
       "      <th>0</th>\n",
       "      <td>1</td>\n",
       "      <td>535651</td>\n",
       "      <td>798186</td>\n",
       "      <td>3</td>\n",
       "      <td>78945</td>\n",
       "      <td>1</td>\n",
       "      <td>2</td>\n",
       "      <td>14</td>\n",
       "      <td>177</td>\n",
       "      <td>73</td>\n",
       "      <td>123</td>\n",
       "      <td>351318.0</td>\n",
       "    </tr>\n",
       "    <tr>\n",
       "      <th>1</th>\n",
       "      <td>2</td>\n",
       "      <td>591911</td>\n",
       "      <td>861056</td>\n",
       "      <td>6</td>\n",
       "      <td>117220</td>\n",
       "      <td>5</td>\n",
       "      <td>9</td>\n",
       "      <td>9</td>\n",
       "      <td>148</td>\n",
       "      <td>74</td>\n",
       "      <td>95</td>\n",
       "      <td>285001.5</td>\n",
       "    </tr>\n",
       "    <tr>\n",
       "      <th>2</th>\n",
       "      <td>3</td>\n",
       "      <td>686990</td>\n",
       "      <td>770762</td>\n",
       "      <td>2</td>\n",
       "      <td>132538</td>\n",
       "      <td>2</td>\n",
       "      <td>8</td>\n",
       "      <td>15</td>\n",
       "      <td>181</td>\n",
       "      <td>53</td>\n",
       "      <td>97</td>\n",
       "      <td>215386.0</td>\n",
       "    </tr>\n",
       "    <tr>\n",
       "      <th>3</th>\n",
       "      <td>4</td>\n",
       "      <td>573999</td>\n",
       "      <td>722381</td>\n",
       "      <td>4</td>\n",
       "      <td>101065</td>\n",
       "      <td>4</td>\n",
       "      <td>3</td>\n",
       "      <td>11</td>\n",
       "      <td>197</td>\n",
       "      <td>54</td>\n",
       "      <td>116</td>\n",
       "      <td>244295.5</td>\n",
       "    </tr>\n",
       "    <tr>\n",
       "      <th>4</th>\n",
       "      <td>5</td>\n",
       "      <td>691388</td>\n",
       "      <td>811335</td>\n",
       "      <td>6</td>\n",
       "      <td>61559</td>\n",
       "      <td>3</td>\n",
       "      <td>9</td>\n",
       "      <td>12</td>\n",
       "      <td>160</td>\n",
       "      <td>53</td>\n",
       "      <td>105</td>\n",
       "      <td>531114.5</td>\n",
       "    </tr>\n",
       "  </tbody>\n",
       "</table>\n",
       "</div>"
      ],
      "text/plain": [
       "   v.id  on road old  on road now  years      km  rating  condition  economy  \\\n",
       "0     1       535651       798186      3   78945       1          2       14   \n",
       "1     2       591911       861056      6  117220       5          9        9   \n",
       "2     3       686990       770762      2  132538       2          8       15   \n",
       "3     4       573999       722381      4  101065       4          3       11   \n",
       "4     5       691388       811335      6   61559       3          9       12   \n",
       "\n",
       "   top speed  hp  torque  current price  \n",
       "0        177  73     123       351318.0  \n",
       "1        148  74      95       285001.5  \n",
       "2        181  53      97       215386.0  \n",
       "3        197  54     116       244295.5  \n",
       "4        160  53     105       531114.5  "
      ]
     },
     "execution_count": 3,
     "metadata": {},
     "output_type": "execute_result"
    }
   ],
   "source": [
    "data.head()"
   ]
  },
  {
   "cell_type": "markdown",
   "id": "4fb04384-1dbc-4f7e-88eb-65b7bdaa113b",
   "metadata": {},
   "source": [
    "GETTING LAST 5 ROWS OF DATASET"
   ]
  },
  {
   "cell_type": "code",
   "execution_count": 4,
   "id": "3ed9a396-922a-4932-b8b2-3b5a506cd7e4",
   "metadata": {},
   "outputs": [
    {
     "data": {
      "text/html": [
       "<div>\n",
       "<style scoped>\n",
       "    .dataframe tbody tr th:only-of-type {\n",
       "        vertical-align: middle;\n",
       "    }\n",
       "\n",
       "    .dataframe tbody tr th {\n",
       "        vertical-align: top;\n",
       "    }\n",
       "\n",
       "    .dataframe thead th {\n",
       "        text-align: right;\n",
       "    }\n",
       "</style>\n",
       "<table border=\"1\" class=\"dataframe\">\n",
       "  <thead>\n",
       "    <tr style=\"text-align: right;\">\n",
       "      <th></th>\n",
       "      <th>v.id</th>\n",
       "      <th>on road old</th>\n",
       "      <th>on road now</th>\n",
       "      <th>years</th>\n",
       "      <th>km</th>\n",
       "      <th>rating</th>\n",
       "      <th>condition</th>\n",
       "      <th>economy</th>\n",
       "      <th>top speed</th>\n",
       "      <th>hp</th>\n",
       "      <th>torque</th>\n",
       "      <th>current price</th>\n",
       "    </tr>\n",
       "  </thead>\n",
       "  <tbody>\n",
       "    <tr>\n",
       "      <th>995</th>\n",
       "      <td>996</td>\n",
       "      <td>633238</td>\n",
       "      <td>743850</td>\n",
       "      <td>5</td>\n",
       "      <td>125092</td>\n",
       "      <td>1</td>\n",
       "      <td>6</td>\n",
       "      <td>11</td>\n",
       "      <td>171</td>\n",
       "      <td>95</td>\n",
       "      <td>97</td>\n",
       "      <td>190744.0</td>\n",
       "    </tr>\n",
       "    <tr>\n",
       "      <th>996</th>\n",
       "      <td>997</td>\n",
       "      <td>599626</td>\n",
       "      <td>848195</td>\n",
       "      <td>4</td>\n",
       "      <td>83370</td>\n",
       "      <td>2</td>\n",
       "      <td>9</td>\n",
       "      <td>14</td>\n",
       "      <td>161</td>\n",
       "      <td>101</td>\n",
       "      <td>120</td>\n",
       "      <td>419748.0</td>\n",
       "    </tr>\n",
       "    <tr>\n",
       "      <th>997</th>\n",
       "      <td>998</td>\n",
       "      <td>646344</td>\n",
       "      <td>842733</td>\n",
       "      <td>7</td>\n",
       "      <td>86722</td>\n",
       "      <td>1</td>\n",
       "      <td>8</td>\n",
       "      <td>9</td>\n",
       "      <td>196</td>\n",
       "      <td>113</td>\n",
       "      <td>89</td>\n",
       "      <td>405871.0</td>\n",
       "    </tr>\n",
       "    <tr>\n",
       "      <th>998</th>\n",
       "      <td>999</td>\n",
       "      <td>535559</td>\n",
       "      <td>732439</td>\n",
       "      <td>2</td>\n",
       "      <td>140478</td>\n",
       "      <td>4</td>\n",
       "      <td>5</td>\n",
       "      <td>9</td>\n",
       "      <td>184</td>\n",
       "      <td>112</td>\n",
       "      <td>128</td>\n",
       "      <td>74398.0</td>\n",
       "    </tr>\n",
       "    <tr>\n",
       "      <th>999</th>\n",
       "      <td>1000</td>\n",
       "      <td>590105</td>\n",
       "      <td>779743</td>\n",
       "      <td>5</td>\n",
       "      <td>67295</td>\n",
       "      <td>4</td>\n",
       "      <td>2</td>\n",
       "      <td>8</td>\n",
       "      <td>199</td>\n",
       "      <td>99</td>\n",
       "      <td>96</td>\n",
       "      <td>414938.5</td>\n",
       "    </tr>\n",
       "  </tbody>\n",
       "</table>\n",
       "</div>"
      ],
      "text/plain": [
       "     v.id  on road old  on road now  years      km  rating  condition  \\\n",
       "995   996       633238       743850      5  125092       1          6   \n",
       "996   997       599626       848195      4   83370       2          9   \n",
       "997   998       646344       842733      7   86722       1          8   \n",
       "998   999       535559       732439      2  140478       4          5   \n",
       "999  1000       590105       779743      5   67295       4          2   \n",
       "\n",
       "     economy  top speed   hp  torque  current price  \n",
       "995       11        171   95      97       190744.0  \n",
       "996       14        161  101     120       419748.0  \n",
       "997        9        196  113      89       405871.0  \n",
       "998        9        184  112     128        74398.0  \n",
       "999        8        199   99      96       414938.5  "
      ]
     },
     "execution_count": 4,
     "metadata": {},
     "output_type": "execute_result"
    }
   ],
   "source": [
    "data.tail()"
   ]
  },
  {
   "cell_type": "markdown",
   "id": "4ce1f512-e7ee-4b02-8613-a67013fc1e51",
   "metadata": {},
   "source": [
    "TO FIND HOWMANY ROWS AND COLUMNS ARE PRESENT IN DATASER"
   ]
  },
  {
   "cell_type": "code",
   "execution_count": 5,
   "id": "2b35b502-bf03-4f00-b8ac-bcc738e17e92",
   "metadata": {},
   "outputs": [
    {
     "data": {
      "text/plain": [
       "(1000, 12)"
      ]
     },
     "execution_count": 5,
     "metadata": {},
     "output_type": "execute_result"
    }
   ],
   "source": [
    "data.shape"
   ]
  },
  {
   "cell_type": "markdown",
   "id": "a30b6ff8-e79e-4adb-a1a0-0dcd6b9a81e3",
   "metadata": {},
   "source": [
    "DESCRIBING OF DATASET"
   ]
  },
  {
   "cell_type": "code",
   "execution_count": 6,
   "id": "7c6de5a8-1c95-4ac2-abbd-e13af153d6c1",
   "metadata": {},
   "outputs": [
    {
     "data": {
      "text/html": [
       "<div>\n",
       "<style scoped>\n",
       "    .dataframe tbody tr th:only-of-type {\n",
       "        vertical-align: middle;\n",
       "    }\n",
       "\n",
       "    .dataframe tbody tr th {\n",
       "        vertical-align: top;\n",
       "    }\n",
       "\n",
       "    .dataframe thead th {\n",
       "        text-align: right;\n",
       "    }\n",
       "</style>\n",
       "<table border=\"1\" class=\"dataframe\">\n",
       "  <thead>\n",
       "    <tr style=\"text-align: right;\">\n",
       "      <th></th>\n",
       "      <th>v.id</th>\n",
       "      <th>on road old</th>\n",
       "      <th>on road now</th>\n",
       "      <th>years</th>\n",
       "      <th>km</th>\n",
       "      <th>rating</th>\n",
       "      <th>condition</th>\n",
       "      <th>economy</th>\n",
       "      <th>top speed</th>\n",
       "      <th>hp</th>\n",
       "      <th>torque</th>\n",
       "      <th>current price</th>\n",
       "    </tr>\n",
       "  </thead>\n",
       "  <tbody>\n",
       "    <tr>\n",
       "      <th>count</th>\n",
       "      <td>1000.000000</td>\n",
       "      <td>1000.000000</td>\n",
       "      <td>1000.0000</td>\n",
       "      <td>1000.000000</td>\n",
       "      <td>1000.000000</td>\n",
       "      <td>1000.000000</td>\n",
       "      <td>1000.000000</td>\n",
       "      <td>1000.000000</td>\n",
       "      <td>1000.00000</td>\n",
       "      <td>1000.00000</td>\n",
       "      <td>1000.000000</td>\n",
       "      <td>1000.00000</td>\n",
       "    </tr>\n",
       "    <tr>\n",
       "      <th>mean</th>\n",
       "      <td>500.500000</td>\n",
       "      <td>601648.286000</td>\n",
       "      <td>799131.3970</td>\n",
       "      <td>4.561000</td>\n",
       "      <td>100274.430000</td>\n",
       "      <td>2.988000</td>\n",
       "      <td>5.592000</td>\n",
       "      <td>11.625000</td>\n",
       "      <td>166.89300</td>\n",
       "      <td>84.54600</td>\n",
       "      <td>103.423000</td>\n",
       "      <td>308520.24250</td>\n",
       "    </tr>\n",
       "    <tr>\n",
       "      <th>std</th>\n",
       "      <td>288.819436</td>\n",
       "      <td>58407.246204</td>\n",
       "      <td>57028.9502</td>\n",
       "      <td>1.719079</td>\n",
       "      <td>29150.463233</td>\n",
       "      <td>1.402791</td>\n",
       "      <td>2.824449</td>\n",
       "      <td>2.230549</td>\n",
       "      <td>19.28838</td>\n",
       "      <td>20.51694</td>\n",
       "      <td>21.058716</td>\n",
       "      <td>126073.25915</td>\n",
       "    </tr>\n",
       "    <tr>\n",
       "      <th>min</th>\n",
       "      <td>1.000000</td>\n",
       "      <td>500265.000000</td>\n",
       "      <td>700018.0000</td>\n",
       "      <td>2.000000</td>\n",
       "      <td>50324.000000</td>\n",
       "      <td>1.000000</td>\n",
       "      <td>1.000000</td>\n",
       "      <td>8.000000</td>\n",
       "      <td>135.00000</td>\n",
       "      <td>50.00000</td>\n",
       "      <td>68.000000</td>\n",
       "      <td>28226.50000</td>\n",
       "    </tr>\n",
       "    <tr>\n",
       "      <th>25%</th>\n",
       "      <td>250.750000</td>\n",
       "      <td>548860.500000</td>\n",
       "      <td>750997.7500</td>\n",
       "      <td>3.000000</td>\n",
       "      <td>74367.500000</td>\n",
       "      <td>2.000000</td>\n",
       "      <td>3.000000</td>\n",
       "      <td>10.000000</td>\n",
       "      <td>150.00000</td>\n",
       "      <td>67.00000</td>\n",
       "      <td>85.000000</td>\n",
       "      <td>206871.75000</td>\n",
       "    </tr>\n",
       "    <tr>\n",
       "      <th>50%</th>\n",
       "      <td>500.500000</td>\n",
       "      <td>601568.000000</td>\n",
       "      <td>798168.0000</td>\n",
       "      <td>5.000000</td>\n",
       "      <td>100139.500000</td>\n",
       "      <td>3.000000</td>\n",
       "      <td>6.000000</td>\n",
       "      <td>12.000000</td>\n",
       "      <td>166.00000</td>\n",
       "      <td>84.00000</td>\n",
       "      <td>104.000000</td>\n",
       "      <td>306717.75000</td>\n",
       "    </tr>\n",
       "    <tr>\n",
       "      <th>75%</th>\n",
       "      <td>750.250000</td>\n",
       "      <td>652267.250000</td>\n",
       "      <td>847563.2500</td>\n",
       "      <td>6.000000</td>\n",
       "      <td>125048.000000</td>\n",
       "      <td>4.000000</td>\n",
       "      <td>8.000000</td>\n",
       "      <td>13.000000</td>\n",
       "      <td>184.00000</td>\n",
       "      <td>102.00000</td>\n",
       "      <td>121.000000</td>\n",
       "      <td>414260.87500</td>\n",
       "    </tr>\n",
       "    <tr>\n",
       "      <th>max</th>\n",
       "      <td>1000.000000</td>\n",
       "      <td>699859.000000</td>\n",
       "      <td>899797.0000</td>\n",
       "      <td>7.000000</td>\n",
       "      <td>149902.000000</td>\n",
       "      <td>5.000000</td>\n",
       "      <td>10.000000</td>\n",
       "      <td>15.000000</td>\n",
       "      <td>200.00000</td>\n",
       "      <td>120.00000</td>\n",
       "      <td>140.000000</td>\n",
       "      <td>584267.50000</td>\n",
       "    </tr>\n",
       "  </tbody>\n",
       "</table>\n",
       "</div>"
      ],
      "text/plain": [
       "              v.id    on road old  on road now        years             km  \\\n",
       "count  1000.000000    1000.000000    1000.0000  1000.000000    1000.000000   \n",
       "mean    500.500000  601648.286000  799131.3970     4.561000  100274.430000   \n",
       "std     288.819436   58407.246204   57028.9502     1.719079   29150.463233   \n",
       "min       1.000000  500265.000000  700018.0000     2.000000   50324.000000   \n",
       "25%     250.750000  548860.500000  750997.7500     3.000000   74367.500000   \n",
       "50%     500.500000  601568.000000  798168.0000     5.000000  100139.500000   \n",
       "75%     750.250000  652267.250000  847563.2500     6.000000  125048.000000   \n",
       "max    1000.000000  699859.000000  899797.0000     7.000000  149902.000000   \n",
       "\n",
       "            rating    condition      economy   top speed          hp  \\\n",
       "count  1000.000000  1000.000000  1000.000000  1000.00000  1000.00000   \n",
       "mean      2.988000     5.592000    11.625000   166.89300    84.54600   \n",
       "std       1.402791     2.824449     2.230549    19.28838    20.51694   \n",
       "min       1.000000     1.000000     8.000000   135.00000    50.00000   \n",
       "25%       2.000000     3.000000    10.000000   150.00000    67.00000   \n",
       "50%       3.000000     6.000000    12.000000   166.00000    84.00000   \n",
       "75%       4.000000     8.000000    13.000000   184.00000   102.00000   \n",
       "max       5.000000    10.000000    15.000000   200.00000   120.00000   \n",
       "\n",
       "            torque  current price  \n",
       "count  1000.000000     1000.00000  \n",
       "mean    103.423000   308520.24250  \n",
       "std      21.058716   126073.25915  \n",
       "min      68.000000    28226.50000  \n",
       "25%      85.000000   206871.75000  \n",
       "50%     104.000000   306717.75000  \n",
       "75%     121.000000   414260.87500  \n",
       "max     140.000000   584267.50000  "
      ]
     },
     "execution_count": 6,
     "metadata": {},
     "output_type": "execute_result"
    }
   ],
   "source": [
    "data.describe()"
   ]
  },
  {
   "cell_type": "markdown",
   "id": "cd292d07-47b4-47e4-9f9e-ce0c762fdca8",
   "metadata": {},
   "source": [
    "GETTING THE INFORMATION OF DATASET"
   ]
  },
  {
   "cell_type": "code",
   "execution_count": 7,
   "id": "01023de8-4677-4357-b7d7-da4cd3bb6331",
   "metadata": {},
   "outputs": [
    {
     "name": "stdout",
     "output_type": "stream",
     "text": [
      "<class 'pandas.core.frame.DataFrame'>\n",
      "RangeIndex: 1000 entries, 0 to 999\n",
      "Data columns (total 12 columns):\n",
      " #   Column         Non-Null Count  Dtype  \n",
      "---  ------         --------------  -----  \n",
      " 0   v.id           1000 non-null   int64  \n",
      " 1   on road old    1000 non-null   int64  \n",
      " 2   on road now    1000 non-null   int64  \n",
      " 3   years          1000 non-null   int64  \n",
      " 4   km             1000 non-null   int64  \n",
      " 5   rating         1000 non-null   int64  \n",
      " 6   condition      1000 non-null   int64  \n",
      " 7   economy        1000 non-null   int64  \n",
      " 8   top speed      1000 non-null   int64  \n",
      " 9   hp             1000 non-null   int64  \n",
      " 10  torque         1000 non-null   int64  \n",
      " 11  current price  1000 non-null   float64\n",
      "dtypes: float64(1), int64(11)\n",
      "memory usage: 93.9 KB\n"
     ]
    }
   ],
   "source": [
    "data.info()"
   ]
  },
  {
   "cell_type": "markdown",
   "id": "b95ae665-e478-4fba-ae05-08b39a2dccd4",
   "metadata": {},
   "source": [
    "TO FIND THAT DATASET HAVING NULL VALUES OR NOT"
   ]
  },
  {
   "cell_type": "code",
   "execution_count": 8,
   "id": "07288461-6871-4889-81f5-747d1788a90d",
   "metadata": {},
   "outputs": [
    {
     "data": {
      "text/plain": [
       "v.id             0\n",
       "on road old      0\n",
       "on road now      0\n",
       "years            0\n",
       "km               0\n",
       "rating           0\n",
       "condition        0\n",
       "economy          0\n",
       "top speed        0\n",
       "hp               0\n",
       "torque           0\n",
       "current price    0\n",
       "dtype: int64"
      ]
     },
     "execution_count": 8,
     "metadata": {},
     "output_type": "execute_result"
    }
   ],
   "source": [
    "data.isnull().sum()"
   ]
  },
  {
   "cell_type": "markdown",
   "id": "5a0adb95-6f18-4d13-9304-3e2fea17abc0",
   "metadata": {},
   "source": [
    "TO GET THE UNIQUE VALUES OF ALL DATATYPES"
   ]
  },
  {
   "cell_type": "code",
   "execution_count": 9,
   "id": "45743dd4-0ac2-44ef-8ee9-1e9139b3a55a",
   "metadata": {},
   "outputs": [
    {
     "data": {
      "text/plain": [
       "array([3, 6, 2, 4, 5, 7], dtype=int64)"
      ]
     },
     "execution_count": 9,
     "metadata": {},
     "output_type": "execute_result"
    }
   ],
   "source": [
    "data['years'].unique()"
   ]
  },
  {
   "cell_type": "code",
   "execution_count": 10,
   "id": "4a873469-0870-40e6-a08d-01053c141a46",
   "metadata": {},
   "outputs": [
    {
     "data": {
      "text/plain": [
       "0       True\n",
       "1       True\n",
       "2      False\n",
       "3       True\n",
       "4       True\n",
       "       ...  \n",
       "995     True\n",
       "996     True\n",
       "997     True\n",
       "998    False\n",
       "999     True\n",
       "Name: years, Length: 1000, dtype: bool"
      ]
     },
     "execution_count": 10,
     "metadata": {},
     "output_type": "execute_result"
    }
   ],
   "source": [
    "data['years']>=3"
   ]
  },
  {
   "cell_type": "code",
   "execution_count": 11,
   "id": "048a0cf7-a8f9-4c60-baf1-c440c47ed581",
   "metadata": {},
   "outputs": [
    {
     "data": {
      "text/plain": [
       "array([ 78945, 117220, 132538, 101065,  61559, 148846,  78025,  76546,\n",
       "        57662, 132347, 106819, 117221,  53513,  86704,  51547,  70564,\n",
       "       130514, 115576,  79458, 140673, 130523,  81194,  94437, 139685,\n",
       "        53137,  74489,  85911, 100572, 143488, 101416,  90429,  67075,\n",
       "       129855, 146017,  96226, 125676, 121583,  54003,  94258, 124136,\n",
       "        85276,  74674, 111922,  72391, 129439, 103761,  97328,  87920,\n",
       "        79912,  95771, 113301, 139139,  56698, 134933, 119131,  91182,\n",
       "        70499,  79813,  65710,  88139, 122778, 140885, 146376,  67689,\n",
       "        94688, 121698,  99207,  94365, 113638, 111461, 129721,  54169,\n",
       "        52156,  50714, 129978, 104924, 124272, 114702,  91792, 114468,\n",
       "        62563,  77250, 115617,  81941,  87661,  78783, 135574,  79799,\n",
       "        68791,  67045,  97320, 112977,  64457, 141405, 105139, 122212,\n",
       "        50460, 143513,  98931, 140286,  78314, 110549, 118272,  96206,\n",
       "        52701,  67968,  66514, 130238,  61760,  61160,  74321, 119412,\n",
       "       104220, 130732, 131804,  74161, 115874, 105989, 112697,  87427,\n",
       "        60414, 147158, 119637,  93270,  83487,  68992, 149413,  74320,\n",
       "        93630, 115616,  74396, 139517,  75311,  60944, 125694, 124033,\n",
       "        66028, 133840, 148642,  84645, 135305, 112910, 115951,  90509,\n",
       "        54984,  55584, 114559, 146540, 125188,  74444, 124042,  69621,\n",
       "       124754, 107712, 103666, 110771, 104980, 105481,  60237,  54601,\n",
       "        61872, 145509,  86272, 135473,  86838, 120151, 120926,  76363,\n",
       "        89634,  60199, 105279, 111631, 101835, 115822,  64547, 139295,\n",
       "        60086,  91095,  85070, 113280, 125669, 109579, 127322, 145030,\n",
       "       135163,  87261, 120138, 146254,  70453, 133843,  79797,  64667,\n",
       "        61501, 136622,  58064,  76096, 127410, 148234,  98772, 145796,\n",
       "        87506, 107869, 148481, 127042,  80503, 136584,  55973,  64764,\n",
       "       142275, 137960,  58604, 103143,  58901,  52489,  97013, 127668,\n",
       "       125022, 122196, 101287,  55789, 116213,  68247, 127229,  87005,\n",
       "       132541,  63498,  84131,  50815,  90829,  79220, 112953, 143998,\n",
       "        80054,  89569, 122813,  91204,  69558,  60345,  64973,  92903,\n",
       "        71701, 105503, 148077,  73541, 125514,  60253,  67696,  73851,\n",
       "       122976,  62513, 125268, 114156, 114405, 141406,  91163, 112964,\n",
       "        56937, 141554,  78169, 101865, 101263, 144949, 132152,  68013,\n",
       "        97160, 111289,  75116, 122974,  52712,  78154, 102435,  51894,\n",
       "       138955,  98980, 118664,  52266, 136497, 129251, 124062,  67692,\n",
       "       100003,  95495, 127404,  59454, 116626, 111194,  63098,  82580,\n",
       "       101567, 135652, 130004, 143526, 123140, 140488,  71198, 120144,\n",
       "        95032, 126379,  60367,  69525,  58798,  64120,  58398, 103983,\n",
       "        63020, 138370, 139638,  78673,  55690,  92577,  65706,  71571,\n",
       "        88184,  57026,  56749, 127775, 106474,  97934, 125057,  52686,\n",
       "       129779, 139287,  98529,  55313, 145766, 122589,  56201, 113078,\n",
       "        52498,  99114, 125519, 120404,  66345,  81955, 116289,  68343,\n",
       "        70600,  60919, 117727, 104526,  90028,  94388, 149191,  81786,\n",
       "       128700, 145066, 100726, 128355,  67912,  98217, 100348, 130890,\n",
       "       120477, 103222, 132078, 132690, 148135,  92412, 128326,  75011,\n",
       "       139859, 119737,  53573,  67098, 135791,  67836, 115714,  68294,\n",
       "        56985,  91130,  92691,  65293, 140296,  95730,  60213,  51554,\n",
       "        51032,  91202,  68391, 106846, 139330, 109589,  92461, 132274,\n",
       "       100188, 145992,  59089,  62768, 138175,  61880,  71716, 104233,\n",
       "        81086,  81037,  65717, 107058,  92598, 121264,  53183, 105792,\n",
       "       140760, 124399, 137368,  91030, 120388,  85398, 147460,  99194,\n",
       "        66427, 124079,  50648, 147265, 123317, 137660, 143820,  76805,\n",
       "       101889,  50512,  71337, 129891,  92823,  84933,  58427, 149529,\n",
       "        59619,  81695, 119862, 137714, 115379, 134717,  74905, 111622,\n",
       "       124833,  71450,  96686,  66552, 132105, 100534,  71977,  63934,\n",
       "        81284,  68212, 113232, 128177, 140227, 109453, 113147,  55592,\n",
       "       132856, 140455, 113723, 122105, 147206,  61132,  64481,  59806,\n",
       "        51513,  61687, 110234,  89677, 136468,  96129, 118943, 133038,\n",
       "        87263, 133466, 149565,  99340, 123383,  72223, 146425,  57881,\n",
       "       132215,  67520, 106506, 143458,  89533, 133726, 125045,  52568,\n",
       "       142201,  63448, 101139, 132129, 132498,  76480,  72714, 132059,\n",
       "        71598, 109500,  53831, 129507, 121739,  56023,  53658,  79429,\n",
       "       113365, 141565,  92230, 119539, 124010, 136402,  61612, 143994,\n",
       "        64839, 125638,  61910,  93188,  95556,  88825,  95846, 130393,\n",
       "        90969, 101621,  62188, 144010, 149654,  83022, 125066,  67036,\n",
       "        82191, 123580, 123416, 139432,  89816, 128006,  95246, 147871,\n",
       "        98776,  95020,  76306,  60176,  83524,  90941,  95921,  88960,\n",
       "       113889, 126362, 124610,  96723,  97061,  54562,  77441,  89421,\n",
       "       117501, 115636,  78535, 103918,  68188,  69965, 124499, 118013,\n",
       "       147282, 143242,  81525,  56331, 117240, 140740, 146906,  96357,\n",
       "       148724, 138261, 112885,  98867,  66618, 123556, 117511,  72872,\n",
       "        69779,  58928, 124328,  75622,  96596,  95728,  65756,  77196,\n",
       "       122677, 126760,  97989, 108683,  66721,  78060, 123166,  57688,\n",
       "        53075, 128071,  61116, 135529,  93572,  52227,  50888,  76648,\n",
       "        70597,  60233, 139535, 104912, 118604,  97223, 113230,  62260,\n",
       "        73313,  61478, 130989,  51693, 122747,  55630, 103827,  88125,\n",
       "        90839,  81850,  50324, 114592,  52086, 124667, 111290,  70246,\n",
       "        54712, 133023, 104308,  91222,  63345, 100630,  88278,  55465,\n",
       "        65698,  59080, 101181, 124225,  91449, 110122,  56829,  76062,\n",
       "        77353, 140023,  90585,  97474,  78435, 128961, 114966,  59864,\n",
       "       145806,  77675, 142396,  91811, 114705,  93335, 105836, 100619,\n",
       "       113558, 144945,  98017, 117094,  64751,  52443, 113884, 148167,\n",
       "       113621, 106261, 116587, 118319,  89986,  63419,  95513, 130540,\n",
       "       133956,  89225,  88420,  98880, 131598,  65037, 118682,  63993,\n",
       "        60214,  69640, 142195, 132540, 108202, 107663, 133211, 136691,\n",
       "        52946, 134781, 116435,  77703, 149234, 119596,  56523, 136795,\n",
       "       115760, 126287,  52381, 147741,  63815,  60666, 121255, 106715,\n",
       "       136240,  99320, 116981,  78677,  82517, 116286,  88306,  92073,\n",
       "        95647, 106653,  82204, 103849, 100400, 103972,  72730, 147580,\n",
       "       141683,  94501, 131076, 111844, 101870,  55340, 115870,  63403,\n",
       "        96565,  58938,  96933,  70511, 141800, 147852, 117260,  56387,\n",
       "        87383, 139060,  66457, 102743, 131374, 122255, 116318,  57543,\n",
       "        98691, 120623, 123028,  55203,  74724, 110828,  54434, 102621,\n",
       "       126851,  90604, 137855,  66367,  78714,  58557,  94523,  53361,\n",
       "       121747,  90252,  64662,  96683, 113210,  56894, 130810, 112378,\n",
       "        74383,  57124,  95035,  86468, 147599,  73332,  72457,  86142,\n",
       "        87442,  74667, 112884,  74791,  64701, 133456,  77570, 138414,\n",
       "        94294,  92517, 149319, 130599, 143090, 129656,  97132, 140656,\n",
       "       123324, 147932, 107592, 129866, 110396, 117072,  52213,  66133,\n",
       "        62186, 130980,  89457,  80059, 147297,  96784, 140142, 148374,\n",
       "        58548, 141733,  69230, 148764,  63875, 139020, 143410, 142975,\n",
       "       125735,  95691,  85431,  73215, 138104, 129661,  90273, 120456,\n",
       "        97538,  67545, 133782, 145102,  80070, 139489,  88429, 147129,\n",
       "       139323,  74814, 132988,  63571,  82440,  88396,  87528, 125450,\n",
       "        68068, 116569,  74762,  87697,  87096, 100966, 149902, 120693,\n",
       "        89354, 131174, 116362, 148100,  68619,  55316,  74606, 109021,\n",
       "        87698,  71430,  56816,  55722, 148957, 128694, 137347, 110247,\n",
       "        73033, 136449, 129991, 107549,  71646, 144644, 115323, 118659,\n",
       "       143238, 144691, 135572, 121114,  88153, 142959, 121615, 119377,\n",
       "       120786, 114604,  95757,  62638, 103310,  69950,  97874, 106607,\n",
       "       116349, 133005,  83938, 102557, 134678, 104178, 137631,  70261,\n",
       "       146627, 113074,  84662, 115241,  62161,  89279, 138715,  77270,\n",
       "       120970, 136786,  66460, 113901, 145711, 122209, 101958, 124475,\n",
       "        98190,  68811,  76860,  58644, 113637, 104427, 134769,  71488,\n",
       "        99211, 106209,  77046,  93280,  97557, 123788,  70888, 142292,\n",
       "       133251,  53174,  92717,  89687, 108315,  80464, 113292, 118481,\n",
       "       139591, 108126, 147994, 148838,  71556, 121892,  87199,  53231,\n",
       "        91444,  62177, 149285, 136865,  85600,  59148, 101657,  60917,\n",
       "        60160, 100091, 102791,  87618, 104079,  56991,  65811, 105905,\n",
       "        84284, 144875, 120128, 109797, 115304,  97044,  52974,  86488,\n",
       "        62918, 143076, 119356,  96472, 106613,  70087,  84252, 121144,\n",
       "       108644, 126380,  70964, 126360,  92369, 146214,  61101,  76283,\n",
       "       115176, 145395, 101069,  53309,  92567, 126940,  98173, 126075,\n",
       "        89738,  65422,  74895,  59097, 144322, 148138,  92988, 149729,\n",
       "       125092,  83370,  86722, 140478,  67295], dtype=int64)"
      ]
     },
     "execution_count": 11,
     "metadata": {},
     "output_type": "execute_result"
    }
   ],
   "source": [
    "data['km'].unique()"
   ]
  },
  {
   "cell_type": "code",
   "execution_count": 12,
   "id": "a1bb1686-bbfd-4f2a-9ca6-c69ed41b68d1",
   "metadata": {},
   "outputs": [
    {
     "data": {
      "text/plain": [
       "array([1, 5, 2, 4, 3], dtype=int64)"
      ]
     },
     "execution_count": 12,
     "metadata": {},
     "output_type": "execute_result"
    }
   ],
   "source": [
    "data['rating'].unique()"
   ]
  },
  {
   "cell_type": "code",
   "execution_count": 13,
   "id": "7c561b50-4d3e-4121-9035-897676cabfa4",
   "metadata": {},
   "outputs": [
    {
     "data": {
      "text/plain": [
       "array([177, 148, 181, 197, 160, 138, 171, 146, 151, 200, 164, 187, 174,\n",
       "       175, 176, 189, 195, 156, 153, 182, 163, 191, 179, 145, 141, 142,\n",
       "       137, 157, 162, 196, 173, 159, 158, 193, 154, 136, 198, 178, 184,\n",
       "       165, 194, 143, 169, 144, 150, 166, 188, 183, 172, 152, 139, 167,\n",
       "       192, 135, 155, 149, 186, 170, 180, 185, 168, 161, 140, 190, 199,\n",
       "       147], dtype=int64)"
      ]
     },
     "execution_count": 13,
     "metadata": {},
     "output_type": "execute_result"
    }
   ],
   "source": [
    "data['top speed'].unique()"
   ]
  },
  {
   "cell_type": "code",
   "execution_count": 14,
   "id": "f88d7231-f9f3-4425-a37a-ae0ef1fe2474",
   "metadata": {},
   "outputs": [
    {
     "data": {
      "text/plain": [
       "6"
      ]
     },
     "execution_count": 14,
     "metadata": {},
     "output_type": "execute_result"
    }
   ],
   "source": [
    "len(data.years.unique())"
   ]
  },
  {
   "cell_type": "code",
   "execution_count": 15,
   "id": "e6a1af43-4237-4617-aae9-c0b7d8a8239b",
   "metadata": {},
   "outputs": [
    {
     "data": {
      "text/plain": [
       "997"
      ]
     },
     "execution_count": 15,
     "metadata": {},
     "output_type": "execute_result"
    }
   ],
   "source": [
    "len(data.km.unique())"
   ]
  },
  {
   "cell_type": "code",
   "execution_count": 16,
   "id": "1fd4fc2d-35f1-49fa-8d1e-85ffc900eaba",
   "metadata": {},
   "outputs": [
    {
     "data": {
      "text/plain": [
       "5"
      ]
     },
     "execution_count": 16,
     "metadata": {},
     "output_type": "execute_result"
    }
   ],
   "source": [
    "len(data.rating.unique())"
   ]
  },
  {
   "cell_type": "markdown",
   "id": "add20cad-6a84-43d8-937a-391e22def101",
   "metadata": {},
   "source": [
    "SPLITTING OF DATAS INTO TRAINING AND TESTING DATA"
   ]
  },
  {
   "cell_type": "code",
   "execution_count": 17,
   "id": "b4a29b27-9829-430b-b6b8-c6b287c9bd5a",
   "metadata": {},
   "outputs": [],
   "source": [
    "x = data[['km', 'years', 'top speed','condition','rating']]\n",
    "y = data['current price']"
   ]
  },
  {
   "cell_type": "code",
   "execution_count": 18,
   "id": "2c3e364b-f763-4330-be9f-cb4992bd95a3",
   "metadata": {},
   "outputs": [
    {
     "name": "stdout",
     "output_type": "stream",
     "text": [
      "         km  years  top speed  condition  rating\n",
      "0     78945      3        177          2       1\n",
      "1    117220      6        148          9       5\n",
      "2    132538      2        181          8       2\n",
      "3    101065      4        197          3       4\n",
      "4     61559      6        160          9       3\n",
      "..      ...    ...        ...        ...     ...\n",
      "995  125092      5        171          6       1\n",
      "996   83370      4        161          9       2\n",
      "997   86722      7        196          8       1\n",
      "998  140478      2        184          5       4\n",
      "999   67295      5        199          2       4\n",
      "\n",
      "[1000 rows x 5 columns]\n"
     ]
    }
   ],
   "source": [
    "print(x)"
   ]
  },
  {
   "cell_type": "code",
   "execution_count": 19,
   "id": "12f3ebee-7fdd-42f1-b191-1805107a7f5d",
   "metadata": {},
   "outputs": [
    {
     "name": "stdout",
     "output_type": "stream",
     "text": [
      "0      351318.0\n",
      "1      285001.5\n",
      "2      215386.0\n",
      "3      244295.5\n",
      "4      531114.5\n",
      "         ...   \n",
      "995    190744.0\n",
      "996    419748.0\n",
      "997    405871.0\n",
      "998     74398.0\n",
      "999    414938.5\n",
      "Name: current price, Length: 1000, dtype: float64\n"
     ]
    }
   ],
   "source": [
    "print(y)"
   ]
  },
  {
   "cell_type": "code",
   "execution_count": 22,
   "id": "42f46bea-7a90-4d15-b681-b7b047686361",
   "metadata": {},
   "outputs": [],
   "source": [
    "\n",
    "\n",
    "x_train, x_test, y_train, y_test = train_test_split(x, y, test_size=0.2, random_state=42)"
   ]
  },
  {
   "cell_type": "markdown",
   "id": "b18dc3ec-ab5d-4332-8c30-0a4ab0ae9957",
   "metadata": {},
   "source": [
    "MODEL TRAINING\n",
    "\n",
    "LINEAR REGRESSION"
   ]
  },
  {
   "cell_type": "code",
   "execution_count": 24,
   "id": "110ccbb9-66b0-4f21-b5c2-cf015c97ba04",
   "metadata": {},
   "outputs": [
    {
     "data": {
      "text/html": [
       "<style>#sk-container-id-1 {color: black;background-color: white;}#sk-container-id-1 pre{padding: 0;}#sk-container-id-1 div.sk-toggleable {background-color: white;}#sk-container-id-1 label.sk-toggleable__label {cursor: pointer;display: block;width: 100%;margin-bottom: 0;padding: 0.3em;box-sizing: border-box;text-align: center;}#sk-container-id-1 label.sk-toggleable__label-arrow:before {content: \"▸\";float: left;margin-right: 0.25em;color: #696969;}#sk-container-id-1 label.sk-toggleable__label-arrow:hover:before {color: black;}#sk-container-id-1 div.sk-estimator:hover label.sk-toggleable__label-arrow:before {color: black;}#sk-container-id-1 div.sk-toggleable__content {max-height: 0;max-width: 0;overflow: hidden;text-align: left;background-color: #f0f8ff;}#sk-container-id-1 div.sk-toggleable__content pre {margin: 0.2em;color: black;border-radius: 0.25em;background-color: #f0f8ff;}#sk-container-id-1 input.sk-toggleable__control:checked~div.sk-toggleable__content {max-height: 200px;max-width: 100%;overflow: auto;}#sk-container-id-1 input.sk-toggleable__control:checked~label.sk-toggleable__label-arrow:before {content: \"▾\";}#sk-container-id-1 div.sk-estimator input.sk-toggleable__control:checked~label.sk-toggleable__label {background-color: #d4ebff;}#sk-container-id-1 div.sk-label input.sk-toggleable__control:checked~label.sk-toggleable__label {background-color: #d4ebff;}#sk-container-id-1 input.sk-hidden--visually {border: 0;clip: rect(1px 1px 1px 1px);clip: rect(1px, 1px, 1px, 1px);height: 1px;margin: -1px;overflow: hidden;padding: 0;position: absolute;width: 1px;}#sk-container-id-1 div.sk-estimator {font-family: monospace;background-color: #f0f8ff;border: 1px dotted black;border-radius: 0.25em;box-sizing: border-box;margin-bottom: 0.5em;}#sk-container-id-1 div.sk-estimator:hover {background-color: #d4ebff;}#sk-container-id-1 div.sk-parallel-item::after {content: \"\";width: 100%;border-bottom: 1px solid gray;flex-grow: 1;}#sk-container-id-1 div.sk-label:hover label.sk-toggleable__label {background-color: #d4ebff;}#sk-container-id-1 div.sk-serial::before {content: \"\";position: absolute;border-left: 1px solid gray;box-sizing: border-box;top: 0;bottom: 0;left: 50%;z-index: 0;}#sk-container-id-1 div.sk-serial {display: flex;flex-direction: column;align-items: center;background-color: white;padding-right: 0.2em;padding-left: 0.2em;position: relative;}#sk-container-id-1 div.sk-item {position: relative;z-index: 1;}#sk-container-id-1 div.sk-parallel {display: flex;align-items: stretch;justify-content: center;background-color: white;position: relative;}#sk-container-id-1 div.sk-item::before, #sk-container-id-1 div.sk-parallel-item::before {content: \"\";position: absolute;border-left: 1px solid gray;box-sizing: border-box;top: 0;bottom: 0;left: 50%;z-index: -1;}#sk-container-id-1 div.sk-parallel-item {display: flex;flex-direction: column;z-index: 1;position: relative;background-color: white;}#sk-container-id-1 div.sk-parallel-item:first-child::after {align-self: flex-end;width: 50%;}#sk-container-id-1 div.sk-parallel-item:last-child::after {align-self: flex-start;width: 50%;}#sk-container-id-1 div.sk-parallel-item:only-child::after {width: 0;}#sk-container-id-1 div.sk-dashed-wrapped {border: 1px dashed gray;margin: 0 0.4em 0.5em 0.4em;box-sizing: border-box;padding-bottom: 0.4em;background-color: white;}#sk-container-id-1 div.sk-label label {font-family: monospace;font-weight: bold;display: inline-block;line-height: 1.2em;}#sk-container-id-1 div.sk-label-container {text-align: center;}#sk-container-id-1 div.sk-container {/* jupyter's `normalize.less` sets `[hidden] { display: none; }` but bootstrap.min.css set `[hidden] { display: none !important; }` so we also need the `!important` here to be able to override the default hidden behavior on the sphinx rendered scikit-learn.org. See: https://github.com/scikit-learn/scikit-learn/issues/21755 */display: inline-block !important;position: relative;}#sk-container-id-1 div.sk-text-repr-fallback {display: none;}</style><div id=\"sk-container-id-1\" class=\"sk-top-container\"><div class=\"sk-text-repr-fallback\"><pre>LinearRegression()</pre><b>In a Jupyter environment, please rerun this cell to show the HTML representation or trust the notebook. <br />On GitHub, the HTML representation is unable to render, please try loading this page with nbviewer.org.</b></div><div class=\"sk-container\" hidden><div class=\"sk-item\"><div class=\"sk-estimator sk-toggleable\"><input class=\"sk-toggleable__control sk-hidden--visually\" id=\"sk-estimator-id-1\" type=\"checkbox\" checked><label for=\"sk-estimator-id-1\" class=\"sk-toggleable__label sk-toggleable__label-arrow\">LinearRegression</label><div class=\"sk-toggleable__content\"><pre>LinearRegression()</pre></div></div></div></div></div>"
      ],
      "text/plain": [
       "LinearRegression()"
      ]
     },
     "execution_count": 24,
     "metadata": {},
     "output_type": "execute_result"
    }
   ],
   "source": [
    "model = LinearRegression()\n",
    "model.fit(x_train, y_train)"
   ]
  },
  {
   "cell_type": "markdown",
   "id": "88e98a17-697e-45fd-b407-99fcd587e95f",
   "metadata": {},
   "source": [
    "NOW WE ARE READY FOR PREDICTION"
   ]
  },
  {
   "cell_type": "code",
   "execution_count": 26,
   "id": "12823ded-f0ac-4c08-b0a7-398f7b627649",
   "metadata": {},
   "outputs": [],
   "source": [
    "y_pred = model.predict(x_test)"
   ]
  },
  {
   "cell_type": "code",
   "execution_count": 27,
   "id": "8ea8d5e3-7016-4d3b-8eec-9689b5c98deb",
   "metadata": {},
   "outputs": [
    {
     "name": "stdout",
     "output_type": "stream",
     "text": [
      "Predicted Price: 686426.2215069223\n"
     ]
    }
   ],
   "source": [
    "new_data = pd.DataFrame({'km': [2000], 'years': [3], 'top speed': [177], 'condition':[2],'rating':[5]})\n",
    "predicted_price = model.predict(new_data)\n",
    "print(f\"Predicted Price: {predicted_price[0]}\")"
   ]
  },
  {
   "cell_type": "code",
   "execution_count": null,
   "id": "a7ae3c99-e7ae-4637-b4d0-dbdb5fea9168",
   "metadata": {},
   "outputs": [],
   "source": []
  }
 ],
 "metadata": {
  "kernelspec": {
   "display_name": "Python 3 (ipykernel)",
   "language": "python",
   "name": "python3"
  },
  "language_info": {
   "codemirror_mode": {
    "name": "ipython",
    "version": 3
   },
   "file_extension": ".py",
   "mimetype": "text/x-python",
   "name": "python",
   "nbconvert_exporter": "python",
   "pygments_lexer": "ipython3",
   "version": "3.11.7"
  }
 },
 "nbformat": 4,
 "nbformat_minor": 5
}
